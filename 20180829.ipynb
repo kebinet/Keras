{
 "cells": [
  {
   "cell_type": "code",
   "execution_count": 60,
   "metadata": {},
   "outputs": [
    {
     "name": "stdout",
     "output_type": "stream",
     "text": [
      "SHIFT[1]:TFZLJYLARLFPZUBTILYAOYLLMPCLVULAOYLL\n",
      "SHIFT[2]:SEYKIXKZQKEOYTASHKXZNXKKLOBKUTKZNXKK\n",
      "SHIFT[3]:RDXJHWJYPJDNXSZRGJWYMWJJKNAJTSJYMWJJ\n",
      "SHIFT[4]:QCWIGVIXOICMWRYQFIVXLVIIJMZISRIXLVII\n",
      "SHIFT[5]:PBVHFUHWNHBLVQXPEHUWKUHHILYHRQHWKUHH\n",
      "SHIFT[6]:OAUGETGVMGAKUPWODGTVJTGGHKXGQPGVJTGG\n",
      "SHIFT[7]:NZTFDSFULFZJTOVNCFSUISFFGJWFPOFUISFF\n",
      "SHIFT[8]:MYSECRETKEYISNUMBERTHREEFIVEONETHREE\n",
      "SHIFT[9]:LXRDBQDSJDXHRMTLADQSGQDDEHUDNMDSGQDD\n",
      "SHIFT[10]:KWQCAPCRICWGQLSKZCPRFPCCDGTCMLCRFPCC\n",
      "SHIFT[11]:JVPBZOBQHBVFPKRJYBOQEOBBCFSBLKBQEOBB\n",
      "SHIFT[12]:IUOAYNAPGAUEOJQIXANPDNAABERAKJAPDNAA\n",
      "SHIFT[13]:HTNZXMZOFZTDNIPHWZMOCMZZADQZJIZOCMZZ\n",
      "SHIFT[14]:GSMYWLYNEYSCMHOGVYLNBLYYZCPYIHYNBLYY\n",
      "SHIFT[15]:FRLXVKXMDXRBLGNFUXKMAKXXYBOXHGXMAKXX\n",
      "SHIFT[16]:EQKWUJWLCWQAKFMETWJLZJWWXANWGFWLZJWW\n",
      "SHIFT[17]:DPJVTIVKBVPZJELDSVIKYIVVWZMVFEVKYIVV\n",
      "SHIFT[18]:COIUSHUJAUOYIDKCRUHJXHUUVYLUEDUJXHUU\n",
      "SHIFT[19]:BNHTRGTIZTNXHCJBQTGIWGTTUXKTDCTIWGTT\n",
      "SHIFT[20]:AMGSQFSHYSMWGBIAPSFHVFSSTWJSCBSHVFSS\n",
      "SHIFT[21]:ZLFRPERGXRLVFAHZOREGUERRSVIRBARGUERR\n",
      "SHIFT[22]:YKEQODQFWQKUEZGYNQDFTDQQRUHQAZQFTDQQ\n",
      "SHIFT[23]:XJDPNCPEVPJTDYFXMPCESCPPQTGPZYPESCPP\n",
      "SHIFT[24]:WICOMBODUOISCXEWLOBDRBOOPSFOYXODRBOO\n",
      "SHIFT[25]:VHBNLANCTNHRBWDVKNACQANNORENXWNCQANN\n"
     ]
    }
   ],
   "source": [
    "def makeDisk(k) :\n",
    "    dec_disk = {}\n",
    "    for i in range(26) :\n",
    "        alp = (i+k)%26 + 65\n",
    "        dec_disk[chr(alp)] = chr(i+65)\n",
    "    return dec_disk\n",
    "\n",
    "def caesar(msg, key) :\n",
    "    ret = ''\n",
    "    msg = msg.upper()\n",
    "    disk = makeDisk(key)\n",
    "    for c in msg :\n",
    "        if c in disk :\n",
    "            ret += disk[c]\n",
    "        else :\n",
    "            ret += c\n",
    "    return ret\n",
    "\n",
    "def attack(msg) :\n",
    "    for key in range(1, 26) :\n",
    "        decmsg = caesar(msg, key)\n",
    "        print('SHIFT[%d]:%s' %(key,decmsg))\n",
    "\n",
    "if __name__ == '__main__' :\n",
    "    msg = 'UGAMKZMBSMGQAVCUJMZBPZMMNQDMWVMBPZMM'\n",
    "    attack(msg)"
   ]
  },
  {
   "cell_type": "markdown",
   "metadata": {},
   "source": [
    "###### "
   ]
  },
  {
   "cell_type": "code",
   "execution_count": null,
   "metadata": {},
   "outputs": [],
   "source": []
  },
  {
   "cell_type": "code",
   "execution_count": null,
   "metadata": {},
   "outputs": [],
   "source": []
  }
 ],
 "metadata": {
  "kernelspec": {
   "display_name": "Python 3",
   "language": "python",
   "name": "python3"
  },
  "language_info": {
   "codemirror_mode": {
    "name": "ipython",
    "version": 3
   },
   "file_extension": ".py",
   "mimetype": "text/x-python",
   "name": "python",
   "nbconvert_exporter": "python",
   "pygments_lexer": "ipython3",
   "version": "3.7.3"
  }
 },
 "nbformat": 4,
 "nbformat_minor": 2
}
